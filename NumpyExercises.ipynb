{
  "nbformat": 4,
  "nbformat_minor": 0,
  "metadata": {
    "colab": {
      "provenance": [],
      "authorship_tag": "ABX9TyO4mpa64LSpfP/bvTqHHIWf",
      "include_colab_link": true
    },
    "kernelspec": {
      "name": "python3",
      "display_name": "Python 3"
    },
    "language_info": {
      "name": "python"
    }
  },
  "cells": [
    {
      "cell_type": "markdown",
      "metadata": {
        "id": "view-in-github",
        "colab_type": "text"
      },
      "source": [
        "<a href=\"https://colab.research.google.com/github/anushapriya/AnushaRobotTest/blob/main/NumpyExercises.ipynb\" target=\"_parent\"><img src=\"https://colab.research.google.com/assets/colab-badge.svg\" alt=\"Open In Colab\"/></a>"
      ]
    },
    {
      "cell_type": "code",
      "execution_count": 4,
      "metadata": {
        "colab": {
          "base_uri": "https://localhost:8080/"
        },
        "id": "jfi5RePTAwup",
        "outputId": "3c76aa40-f622-4912-d343-4776a5f6096d"
      },
      "outputs": [
        {
          "output_type": "stream",
          "name": "stdout",
          "text": [
            "0\n",
            "1\n",
            "2\n"
          ]
        }
      ],
      "source": [
        "#Create an numpy array with numpy.arrya with datatype as integer and float\n",
        "import numpy as np\n",
        "np.array([1,2,4,5.5,3], dtype='float')\n",
        "\n",
        "#Create numpy arrays that have zero, one, two, three, Four dimensions respectively.\n",
        "\n",
        "zeord_array=np.array(20)\n",
        "oned_array=np.array([1,2,3,4])\n",
        "twod_array=np.array([[1, 2, 3], [4, 5, 6]])\n",
        "\n",
        "print(zeord_array.ndim)\n",
        "print(oned_array.ndim)\n",
        "print(twod_array.ndim)"
      ]
    }
  ]
}